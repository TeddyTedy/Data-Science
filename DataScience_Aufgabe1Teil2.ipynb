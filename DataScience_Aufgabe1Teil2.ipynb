{
 "cells": [
  {
   "cell_type": "code",
   "execution_count": 11,
   "id": "3af3d395",
   "metadata": {},
   "outputs": [],
   "source": [
    "# Name: Björn Bauer\n",
    "# Matr.: 9973491\n",
    "\n",
    "# Aufgabe: - •Task:  load file, show who gets the Nobel Price? Gender? Age? Plot the Age, Find the Yangest and the Oldest. Plot Winners with more then 1 Nobel Price\n",
    "#"
   ]
  },
  {
   "cell_type": "code",
   "execution_count": 12,
   "id": "6396dd66",
   "metadata": {},
   "outputs": [],
   "source": [
    "import matplotlib.pyplot as plt\n",
    "import seaborn as sns\n",
    "# import sklearn.datasets\n",
    "import numpy as np\n",
    "import pandas as pd\n",
    "\n",
    "\n",
    "# Set default Seaborn style\n",
    "sns.set()\n",
    "\n",
    "# csv einlesen, Seperator nicht notwendig\n",
    "nobel=pd.read_csv(\"archive.csv\")\n"
   ]
  },
  {
   "cell_type": "code",
   "execution_count": 13,
   "id": "0f071e93",
   "metadata": {},
   "outputs": [
    {
     "data": {
      "text/html": [
       "<div>\n",
       "<style scoped>\n",
       "    .dataframe tbody tr th:only-of-type {\n",
       "        vertical-align: middle;\n",
       "    }\n",
       "\n",
       "    .dataframe tbody tr th {\n",
       "        vertical-align: top;\n",
       "    }\n",
       "\n",
       "    .dataframe thead th {\n",
       "        text-align: right;\n",
       "    }\n",
       "</style>\n",
       "<table border=\"1\" class=\"dataframe\">\n",
       "  <thead>\n",
       "    <tr style=\"text-align: right;\">\n",
       "      <th></th>\n",
       "      <th>Year</th>\n",
       "      <th>Category</th>\n",
       "      <th>Prize</th>\n",
       "      <th>Motivation</th>\n",
       "      <th>Prize Share</th>\n",
       "      <th>Laureate ID</th>\n",
       "      <th>Laureate Type</th>\n",
       "      <th>Full Name</th>\n",
       "      <th>Birth Date</th>\n",
       "      <th>Birth City</th>\n",
       "      <th>Birth Country</th>\n",
       "      <th>Sex</th>\n",
       "      <th>Organization Name</th>\n",
       "      <th>Organization City</th>\n",
       "      <th>Organization Country</th>\n",
       "      <th>Death Date</th>\n",
       "      <th>Death City</th>\n",
       "      <th>Death Country</th>\n",
       "    </tr>\n",
       "  </thead>\n",
       "  <tbody>\n",
       "    <tr>\n",
       "      <th>0</th>\n",
       "      <td>1901</td>\n",
       "      <td>Chemistry</td>\n",
       "      <td>The Nobel Prize in Chemistry 1901</td>\n",
       "      <td>\"in recognition of the extraordinary services ...</td>\n",
       "      <td>1/1</td>\n",
       "      <td>160</td>\n",
       "      <td>Individual</td>\n",
       "      <td>Jacobus Henricus van 't Hoff</td>\n",
       "      <td>1852-08-30</td>\n",
       "      <td>Rotterdam</td>\n",
       "      <td>Netherlands</td>\n",
       "      <td>Male</td>\n",
       "      <td>Berlin University</td>\n",
       "      <td>Berlin</td>\n",
       "      <td>Germany</td>\n",
       "      <td>1911-03-01</td>\n",
       "      <td>Berlin</td>\n",
       "      <td>Germany</td>\n",
       "    </tr>\n",
       "    <tr>\n",
       "      <th>1</th>\n",
       "      <td>1901</td>\n",
       "      <td>Literature</td>\n",
       "      <td>The Nobel Prize in Literature 1901</td>\n",
       "      <td>\"in special recognition of his poetic composit...</td>\n",
       "      <td>1/1</td>\n",
       "      <td>569</td>\n",
       "      <td>Individual</td>\n",
       "      <td>Sully Prudhomme</td>\n",
       "      <td>1839-03-16</td>\n",
       "      <td>Paris</td>\n",
       "      <td>France</td>\n",
       "      <td>Male</td>\n",
       "      <td>NaN</td>\n",
       "      <td>NaN</td>\n",
       "      <td>NaN</td>\n",
       "      <td>1907-09-07</td>\n",
       "      <td>Châtenay</td>\n",
       "      <td>France</td>\n",
       "    </tr>\n",
       "    <tr>\n",
       "      <th>2</th>\n",
       "      <td>1901</td>\n",
       "      <td>Medicine</td>\n",
       "      <td>The Nobel Prize in Physiology or Medicine 1901</td>\n",
       "      <td>\"for his work on serum therapy, especially its...</td>\n",
       "      <td>1/1</td>\n",
       "      <td>293</td>\n",
       "      <td>Individual</td>\n",
       "      <td>Emil Adolf von Behring</td>\n",
       "      <td>1854-03-15</td>\n",
       "      <td>Hansdorf (Lawice)</td>\n",
       "      <td>Prussia (Poland)</td>\n",
       "      <td>Male</td>\n",
       "      <td>Marburg University</td>\n",
       "      <td>Marburg</td>\n",
       "      <td>Germany</td>\n",
       "      <td>1917-03-31</td>\n",
       "      <td>Marburg</td>\n",
       "      <td>Germany</td>\n",
       "    </tr>\n",
       "    <tr>\n",
       "      <th>3</th>\n",
       "      <td>1901</td>\n",
       "      <td>Peace</td>\n",
       "      <td>The Nobel Peace Prize 1901</td>\n",
       "      <td>NaN</td>\n",
       "      <td>1/2</td>\n",
       "      <td>462</td>\n",
       "      <td>Individual</td>\n",
       "      <td>Jean Henry Dunant</td>\n",
       "      <td>1828-05-08</td>\n",
       "      <td>Geneva</td>\n",
       "      <td>Switzerland</td>\n",
       "      <td>Male</td>\n",
       "      <td>NaN</td>\n",
       "      <td>NaN</td>\n",
       "      <td>NaN</td>\n",
       "      <td>1910-10-30</td>\n",
       "      <td>Heiden</td>\n",
       "      <td>Switzerland</td>\n",
       "    </tr>\n",
       "    <tr>\n",
       "      <th>4</th>\n",
       "      <td>1901</td>\n",
       "      <td>Peace</td>\n",
       "      <td>The Nobel Peace Prize 1901</td>\n",
       "      <td>NaN</td>\n",
       "      <td>1/2</td>\n",
       "      <td>463</td>\n",
       "      <td>Individual</td>\n",
       "      <td>Frédéric Passy</td>\n",
       "      <td>1822-05-20</td>\n",
       "      <td>Paris</td>\n",
       "      <td>France</td>\n",
       "      <td>Male</td>\n",
       "      <td>NaN</td>\n",
       "      <td>NaN</td>\n",
       "      <td>NaN</td>\n",
       "      <td>1912-06-12</td>\n",
       "      <td>Paris</td>\n",
       "      <td>France</td>\n",
       "    </tr>\n",
       "    <tr>\n",
       "      <th>...</th>\n",
       "      <td>...</td>\n",
       "      <td>...</td>\n",
       "      <td>...</td>\n",
       "      <td>...</td>\n",
       "      <td>...</td>\n",
       "      <td>...</td>\n",
       "      <td>...</td>\n",
       "      <td>...</td>\n",
       "      <td>...</td>\n",
       "      <td>...</td>\n",
       "      <td>...</td>\n",
       "      <td>...</td>\n",
       "      <td>...</td>\n",
       "      <td>...</td>\n",
       "      <td>...</td>\n",
       "      <td>...</td>\n",
       "      <td>...</td>\n",
       "      <td>...</td>\n",
       "    </tr>\n",
       "    <tr>\n",
       "      <th>964</th>\n",
       "      <td>2016</td>\n",
       "      <td>Medicine</td>\n",
       "      <td>The Nobel Prize in Physiology or Medicine 2016</td>\n",
       "      <td>\"for his discoveries of mechanisms for autophagy\"</td>\n",
       "      <td>1/1</td>\n",
       "      <td>927</td>\n",
       "      <td>Individual</td>\n",
       "      <td>Yoshinori Ohsumi</td>\n",
       "      <td>1945-02-09</td>\n",
       "      <td>Fukuoka</td>\n",
       "      <td>Japan</td>\n",
       "      <td>Male</td>\n",
       "      <td>Tokyo Institute of Technology</td>\n",
       "      <td>Tokyo</td>\n",
       "      <td>Japan</td>\n",
       "      <td>NaN</td>\n",
       "      <td>NaN</td>\n",
       "      <td>NaN</td>\n",
       "    </tr>\n",
       "    <tr>\n",
       "      <th>965</th>\n",
       "      <td>2016</td>\n",
       "      <td>Peace</td>\n",
       "      <td>The Nobel Peace Prize 2016</td>\n",
       "      <td>\"for his resolute efforts to bring the country...</td>\n",
       "      <td>1/1</td>\n",
       "      <td>934</td>\n",
       "      <td>Individual</td>\n",
       "      <td>Juan Manuel Santos</td>\n",
       "      <td>1951-08-10</td>\n",
       "      <td>Bogotá</td>\n",
       "      <td>Colombia</td>\n",
       "      <td>Male</td>\n",
       "      <td>NaN</td>\n",
       "      <td>NaN</td>\n",
       "      <td>NaN</td>\n",
       "      <td>NaN</td>\n",
       "      <td>NaN</td>\n",
       "      <td>NaN</td>\n",
       "    </tr>\n",
       "    <tr>\n",
       "      <th>966</th>\n",
       "      <td>2016</td>\n",
       "      <td>Physics</td>\n",
       "      <td>The Nobel Prize in Physics 2016</td>\n",
       "      <td>\"for theoretical discoveries of topological ph...</td>\n",
       "      <td>1/2</td>\n",
       "      <td>928</td>\n",
       "      <td>Individual</td>\n",
       "      <td>David J. Thouless</td>\n",
       "      <td>1934-09-21</td>\n",
       "      <td>Bearsden</td>\n",
       "      <td>United Kingdom</td>\n",
       "      <td>Male</td>\n",
       "      <td>University of Washington</td>\n",
       "      <td>Seattle, WA</td>\n",
       "      <td>United States of America</td>\n",
       "      <td>NaN</td>\n",
       "      <td>NaN</td>\n",
       "      <td>NaN</td>\n",
       "    </tr>\n",
       "    <tr>\n",
       "      <th>967</th>\n",
       "      <td>2016</td>\n",
       "      <td>Physics</td>\n",
       "      <td>The Nobel Prize in Physics 2016</td>\n",
       "      <td>\"for theoretical discoveries of topological ph...</td>\n",
       "      <td>1/4</td>\n",
       "      <td>929</td>\n",
       "      <td>Individual</td>\n",
       "      <td>F. Duncan M. Haldane</td>\n",
       "      <td>1951-09-14</td>\n",
       "      <td>London</td>\n",
       "      <td>United Kingdom</td>\n",
       "      <td>Male</td>\n",
       "      <td>Princeton University</td>\n",
       "      <td>Princeton, NJ</td>\n",
       "      <td>United States of America</td>\n",
       "      <td>NaN</td>\n",
       "      <td>NaN</td>\n",
       "      <td>NaN</td>\n",
       "    </tr>\n",
       "    <tr>\n",
       "      <th>968</th>\n",
       "      <td>2016</td>\n",
       "      <td>Physics</td>\n",
       "      <td>The Nobel Prize in Physics 2016</td>\n",
       "      <td>\"for theoretical discoveries of topological ph...</td>\n",
       "      <td>1/4</td>\n",
       "      <td>930</td>\n",
       "      <td>Individual</td>\n",
       "      <td>J. Michael Kosterlitz</td>\n",
       "      <td>1943-06-22</td>\n",
       "      <td>Aberdeen</td>\n",
       "      <td>United Kingdom</td>\n",
       "      <td>Male</td>\n",
       "      <td>Brown University</td>\n",
       "      <td>Providence, RI</td>\n",
       "      <td>United States of America</td>\n",
       "      <td>NaN</td>\n",
       "      <td>NaN</td>\n",
       "      <td>NaN</td>\n",
       "    </tr>\n",
       "  </tbody>\n",
       "</table>\n",
       "<p>969 rows × 18 columns</p>\n",
       "</div>"
      ],
      "text/plain": [
       "     Year    Category                                           Prize  \\\n",
       "0    1901   Chemistry               The Nobel Prize in Chemistry 1901   \n",
       "1    1901  Literature              The Nobel Prize in Literature 1901   \n",
       "2    1901    Medicine  The Nobel Prize in Physiology or Medicine 1901   \n",
       "3    1901       Peace                      The Nobel Peace Prize 1901   \n",
       "4    1901       Peace                      The Nobel Peace Prize 1901   \n",
       "..    ...         ...                                             ...   \n",
       "964  2016    Medicine  The Nobel Prize in Physiology or Medicine 2016   \n",
       "965  2016       Peace                      The Nobel Peace Prize 2016   \n",
       "966  2016     Physics                 The Nobel Prize in Physics 2016   \n",
       "967  2016     Physics                 The Nobel Prize in Physics 2016   \n",
       "968  2016     Physics                 The Nobel Prize in Physics 2016   \n",
       "\n",
       "                                            Motivation Prize Share  \\\n",
       "0    \"in recognition of the extraordinary services ...         1/1   \n",
       "1    \"in special recognition of his poetic composit...         1/1   \n",
       "2    \"for his work on serum therapy, especially its...         1/1   \n",
       "3                                                  NaN         1/2   \n",
       "4                                                  NaN         1/2   \n",
       "..                                                 ...         ...   \n",
       "964  \"for his discoveries of mechanisms for autophagy\"         1/1   \n",
       "965  \"for his resolute efforts to bring the country...         1/1   \n",
       "966  \"for theoretical discoveries of topological ph...         1/2   \n",
       "967  \"for theoretical discoveries of topological ph...         1/4   \n",
       "968  \"for theoretical discoveries of topological ph...         1/4   \n",
       "\n",
       "     Laureate ID Laureate Type                     Full Name  Birth Date  \\\n",
       "0            160    Individual  Jacobus Henricus van 't Hoff  1852-08-30   \n",
       "1            569    Individual               Sully Prudhomme  1839-03-16   \n",
       "2            293    Individual        Emil Adolf von Behring  1854-03-15   \n",
       "3            462    Individual             Jean Henry Dunant  1828-05-08   \n",
       "4            463    Individual                Frédéric Passy  1822-05-20   \n",
       "..           ...           ...                           ...         ...   \n",
       "964          927    Individual              Yoshinori Ohsumi  1945-02-09   \n",
       "965          934    Individual            Juan Manuel Santos  1951-08-10   \n",
       "966          928    Individual             David J. Thouless  1934-09-21   \n",
       "967          929    Individual          F. Duncan M. Haldane  1951-09-14   \n",
       "968          930    Individual         J. Michael Kosterlitz  1943-06-22   \n",
       "\n",
       "            Birth City     Birth Country   Sex              Organization Name  \\\n",
       "0            Rotterdam       Netherlands  Male              Berlin University   \n",
       "1                Paris            France  Male                            NaN   \n",
       "2    Hansdorf (Lawice)  Prussia (Poland)  Male             Marburg University   \n",
       "3               Geneva       Switzerland  Male                            NaN   \n",
       "4                Paris            France  Male                            NaN   \n",
       "..                 ...               ...   ...                            ...   \n",
       "964            Fukuoka             Japan  Male  Tokyo Institute of Technology   \n",
       "965             Bogotá          Colombia  Male                            NaN   \n",
       "966           Bearsden    United Kingdom  Male       University of Washington   \n",
       "967             London    United Kingdom  Male           Princeton University   \n",
       "968           Aberdeen    United Kingdom  Male               Brown University   \n",
       "\n",
       "    Organization City      Organization Country  Death Date Death City  \\\n",
       "0              Berlin                   Germany  1911-03-01     Berlin   \n",
       "1                 NaN                       NaN  1907-09-07   Châtenay   \n",
       "2             Marburg                   Germany  1917-03-31    Marburg   \n",
       "3                 NaN                       NaN  1910-10-30     Heiden   \n",
       "4                 NaN                       NaN  1912-06-12      Paris   \n",
       "..                ...                       ...         ...        ...   \n",
       "964             Tokyo                     Japan         NaN        NaN   \n",
       "965               NaN                       NaN         NaN        NaN   \n",
       "966       Seattle, WA  United States of America         NaN        NaN   \n",
       "967     Princeton, NJ  United States of America         NaN        NaN   \n",
       "968    Providence, RI  United States of America         NaN        NaN   \n",
       "\n",
       "    Death Country  \n",
       "0         Germany  \n",
       "1          France  \n",
       "2         Germany  \n",
       "3     Switzerland  \n",
       "4          France  \n",
       "..            ...  \n",
       "964           NaN  \n",
       "965           NaN  \n",
       "966           NaN  \n",
       "967           NaN  \n",
       "968           NaN  \n",
       "\n",
       "[969 rows x 18 columns]"
      ]
     },
     "execution_count": 13,
     "metadata": {},
     "output_type": "execute_result"
    }
   ],
   "source": [
    "# Tabelle anzeigen um Überblick zu erhalten\n",
    "nobel"
   ]
  },
  {
   "cell_type": "code",
   "execution_count": 14,
   "id": "a8781e23",
   "metadata": {},
   "outputs": [
    {
     "data": {
      "text/plain": [
       "Year                      0\n",
       "Category                  0\n",
       "Prize                     0\n",
       "Motivation               88\n",
       "Prize Share               0\n",
       "Laureate ID               0\n",
       "Laureate Type             0\n",
       "Full Name                 0\n",
       "Birth Date               29\n",
       "Birth City               28\n",
       "Birth Country            26\n",
       "Sex                      26\n",
       "Organization Name       247\n",
       "Organization City       253\n",
       "Organization Country    253\n",
       "Death Date              352\n",
       "Death City              370\n",
       "Death Country           364\n",
       "dtype: int64"
      ]
     },
     "execution_count": 14,
     "metadata": {},
     "output_type": "execute_result"
    }
   ],
   "source": [
    "# check if data missing\n",
    "missing = nobel.isnull().sum()\n",
    "missing"
   ]
  },
  {
   "cell_type": "code",
   "execution_count": 15,
   "id": "5c5788be",
   "metadata": {},
   "outputs": [
    {
     "name": "stdout",
     "output_type": "stream",
     "text": [
      "     Year    Category                                              Prize  \\\n",
      "958  2016   Chemistry                  The Nobel Prize in Chemistry 2016   \n",
      "959  2016   Chemistry                  The Nobel Prize in Chemistry 2016   \n",
      "960  2016   Chemistry                  The Nobel Prize in Chemistry 2016   \n",
      "961  2016   Economics  The Sveriges Riksbank Prize in Economic Scienc...   \n",
      "962  2016   Economics  The Sveriges Riksbank Prize in Economic Scienc...   \n",
      "963  2016  Literature                 The Nobel Prize in Literature 2016   \n",
      "964  2016    Medicine     The Nobel Prize in Physiology or Medicine 2016   \n",
      "965  2016       Peace                         The Nobel Peace Prize 2016   \n",
      "966  2016     Physics                    The Nobel Prize in Physics 2016   \n",
      "967  2016     Physics                    The Nobel Prize in Physics 2016   \n",
      "968  2016     Physics                    The Nobel Prize in Physics 2016   \n",
      "\n",
      "                                            Motivation Prize Share  \\\n",
      "958  \"for the design and synthesis of molecular mac...         1/3   \n",
      "959  \"for the design and synthesis of molecular mac...         1/3   \n",
      "960  \"for the design and synthesis of molecular mac...         1/3   \n",
      "961       \"for their contributions to contract theory\"         1/2   \n",
      "962       \"for their contributions to contract theory\"         1/2   \n",
      "963  \"for having created new poetic expressions wit...         1/1   \n",
      "964  \"for his discoveries of mechanisms for autophagy\"         1/1   \n",
      "965  \"for his resolute efforts to bring the country...         1/1   \n",
      "966  \"for theoretical discoveries of topological ph...         1/2   \n",
      "967  \"for theoretical discoveries of topological ph...         1/4   \n",
      "968  \"for theoretical discoveries of topological ph...         1/4   \n",
      "\n",
      "     Laureate ID Laureate Type               Full Name  Birth Date  \\\n",
      "958          931    Individual     Jean-Pierre Sauvage  1944-10-21   \n",
      "959          932    Individual  Sir J. Fraser Stoddart  1942-05-24   \n",
      "960          933    Individual      Bernard L. Feringa  1951-05-18   \n",
      "961          935    Individual             Oliver Hart  1948-10-09   \n",
      "962          936    Individual         Bengt Holmström  1949-04-18   \n",
      "963          937    Individual               Bob Dylan  1941-05-24   \n",
      "964          927    Individual        Yoshinori Ohsumi  1945-02-09   \n",
      "965          934    Individual      Juan Manuel Santos  1951-08-10   \n",
      "966          928    Individual       David J. Thouless  1934-09-21   \n",
      "967          929    Individual    F. Duncan M. Haldane  1951-09-14   \n",
      "968          930    Individual   J. Michael Kosterlitz  1943-06-22   \n",
      "\n",
      "            Birth City             Birth Country   Sex  \\\n",
      "958              Paris                    France  Male   \n",
      "959          Edinburgh            United Kingdom  Male   \n",
      "960  Barger-Compascuum               Netherlands  Male   \n",
      "961             London            United Kingdom  Male   \n",
      "962           Helsinki                   Finland  Male   \n",
      "963         Duluth, MN  United States of America  Male   \n",
      "964            Fukuoka                     Japan  Male   \n",
      "965             Bogotá                  Colombia  Male   \n",
      "966           Bearsden            United Kingdom  Male   \n",
      "967             London            United Kingdom  Male   \n",
      "968           Aberdeen            United Kingdom  Male   \n",
      "\n",
      "                               Organization Name Organization City  \\\n",
      "958                     University of Strasbourg        Strasbourg   \n",
      "959                      Northwestern University      Evanston, IL   \n",
      "960                      University of Groningen         Groningen   \n",
      "961                           Harvard University     Cambridge, MA   \n",
      "962  Massachusetts Institute of Technology (MIT)     Cambridge, MA   \n",
      "963                                          NaN               NaN   \n",
      "964                Tokyo Institute of Technology             Tokyo   \n",
      "965                                          NaN               NaN   \n",
      "966                     University of Washington       Seattle, WA   \n",
      "967                         Princeton University     Princeton, NJ   \n",
      "968                             Brown University    Providence, RI   \n",
      "\n",
      "         Organization Country Death Date Death City Death Country  \n",
      "958                    France        NaN        NaN           NaN  \n",
      "959  United States of America        NaN        NaN           NaN  \n",
      "960               Netherlands        NaN        NaN           NaN  \n",
      "961  United States of America        NaN        NaN           NaN  \n",
      "962  United States of America        NaN        NaN           NaN  \n",
      "963                       NaN        NaN        NaN           NaN  \n",
      "964                     Japan        NaN        NaN           NaN  \n",
      "965                       NaN        NaN        NaN           NaN  \n",
      "966  United States of America        NaN        NaN           NaN  \n",
      "967  United States of America        NaN        NaN           NaN  \n",
      "968  United States of America        NaN        NaN           NaN  \n"
     ]
    }
   ],
   "source": [
    "# Die einzigen Daten die in Bezug auf die Aufgabe beachtet werden müssen befinden sich in Spalte \"Sex\"\n",
    "\n",
    "df = pd.DataFrame(nobel)\n",
    "# 2016 ist das letzte Jahr in der CSV, hier wird das neuste Jahr gezeigt\n",
    "df_mask=df['Year']==pd.DataFrame.max(nobel).Year\n",
    "\n",
    "filtered_df = df[df_mask]\n",
    "print(filtered_df)"
   ]
  },
  {
   "cell_type": "code",
   "execution_count": 16,
   "id": "cf10b516",
   "metadata": {},
   "outputs": [
    {
     "data": {
      "image/png": "[encoded data removed]",
      "text/plain": [
       "<Figure size 432x288 with 1 Axes>"
      ]
     },
     "metadata": {},
     "output_type": "display_data"
    }
   ],
   "source": [
    "#mit Unterstützung von Lukas Gößl, hilfe betrifft errors='coerce'\n",
    "\n",
    "from datetime import datetime, date \n",
    "\n",
    "df['Age Winning'] = (pd.to_datetime(df['Year'], format='%Y').dt.year - pd.to_datetime(df['Birth Date'], errors='coerce').dt.year)\n",
    "\n",
    "\n",
    "# Erstelle den Plot\n",
    "_ = plt.hist(df['Age Winning'])\n",
    "\n",
    "\n",
    "plt.title('Age Winning')\n",
    "plt.xlabel('Alter')\n",
    "plt.ylabel('Anzahl')\n",
    "\n",
    "# Zeige Plot an\n",
    "plt.show()"
   ]
  },
  {
   "cell_type": "code",
   "execution_count": 17,
   "id": "cbcdd87e",
   "metadata": {},
   "outputs": [
    {
     "name": "stdout",
     "output_type": "stream",
     "text": [
      "                        Full Name   Sex  Age Winning\n",
      "0    Jacobus Henricus van 't Hoff  Male         49.0\n",
      "1                 Sully Prudhomme  Male         62.0\n",
      "2          Emil Adolf von Behring  Male         47.0\n",
      "3               Jean Henry Dunant  Male         73.0\n",
      "4                  Frédéric Passy  Male         79.0\n",
      "..                            ...   ...          ...\n",
      "964              Yoshinori Ohsumi  Male         71.0\n",
      "965            Juan Manuel Santos  Male         65.0\n",
      "966             David J. Thouless  Male         82.0\n",
      "967          F. Duncan M. Haldane  Male         65.0\n",
      "968         J. Michael Kosterlitz  Male         73.0\n",
      "\n",
      "[969 rows x 3 columns]\n"
     ]
    }
   ],
   "source": [
    "# Ausgabe der gekürzten Tabelle\n",
    "\n",
    "derived_df = df[['Full Name', 'Sex', 'Age Winning']]\n",
    "print(derived_df)"
   ]
  },
  {
   "cell_type": "code",
   "execution_count": 18,
   "id": "faec9c63",
   "metadata": {},
   "outputs": [
    {
     "data": {
      "text/html": [
       "<div>\n",
       "<style scoped>\n",
       "    .dataframe tbody tr th:only-of-type {\n",
       "        vertical-align: middle;\n",
       "    }\n",
       "\n",
       "    .dataframe tbody tr th {\n",
       "        vertical-align: top;\n",
       "    }\n",
       "\n",
       "    .dataframe thead th {\n",
       "        text-align: right;\n",
       "    }\n",
       "</style>\n",
       "<table border=\"1\" class=\"dataframe\">\n",
       "  <thead>\n",
       "    <tr style=\"text-align: right;\">\n",
       "      <th></th>\n",
       "      <th>Full Name</th>\n",
       "      <th>Sex</th>\n",
       "      <th>Age Winning</th>\n",
       "    </tr>\n",
       "  </thead>\n",
       "  <tbody>\n",
       "    <tr>\n",
       "      <th>940</th>\n",
       "      <td>Malala Yousafzai</td>\n",
       "      <td>Female</td>\n",
       "      <td>17.0</td>\n",
       "    </tr>\n",
       "  </tbody>\n",
       "</table>\n",
       "</div>"
      ],
      "text/plain": [
       "            Full Name     Sex  Age Winning\n",
       "940  Malala Yousafzai  Female         17.0"
      ]
     },
     "execution_count": 18,
     "metadata": {},
     "output_type": "execute_result"
    }
   ],
   "source": [
    "# Der jüngste Gewinner\n",
    "df_mask=derived_df['Age Winning'].min()\n",
    "\n",
    "derived_df[derived_df.isin([df_mask]).any(axis=1)]\n"
   ]
  },
  {
   "cell_type": "code",
   "execution_count": 45,
   "id": "87461074",
   "metadata": {},
   "outputs": [
    {
     "ename": "AttributeError",
     "evalue": "'float' object has no attribute 'type'",
     "output_type": "error",
     "traceback": [
      "\u001b[1;31m---------------------------------------------------------------------------\u001b[0m",
      "\u001b[1;31mAttributeError\u001b[0m                            Traceback (most recent call last)",
      "\u001b[1;32m<ipython-input-45-34ce4d4b8a85>\u001b[0m in \u001b[0;36m<module>\u001b[1;34m\u001b[0m\n\u001b[0;32m      2\u001b[0m \u001b[1;33m\u001b[0m\u001b[0m\n\u001b[0;32m      3\u001b[0m \u001b[0mdf_mask\u001b[0m\u001b[1;33m=\u001b[0m\u001b[0mderived_df\u001b[0m\u001b[1;33m[\u001b[0m\u001b[1;34m'Age Winning'\u001b[0m\u001b[1;33m]\u001b[0m\u001b[1;33m.\u001b[0m\u001b[0mmax\u001b[0m\u001b[1;33m(\u001b[0m\u001b[1;33m)\u001b[0m\u001b[1;33m\u001b[0m\u001b[1;33m\u001b[0m\u001b[0m\n\u001b[1;32m----> 4\u001b[1;33m \u001b[0mtest\u001b[0m\u001b[1;33m=\u001b[0m\u001b[0mdf_mask\u001b[0m\u001b[1;33m.\u001b[0m\u001b[0mtype\u001b[0m\u001b[1;33m\u001b[0m\u001b[1;33m\u001b[0m\u001b[0m\n\u001b[0m\u001b[0;32m      5\u001b[0m \u001b[0mtest\u001b[0m\u001b[1;33m\u001b[0m\u001b[1;33m\u001b[0m\u001b[0m\n\u001b[0;32m      6\u001b[0m \u001b[0mderived_df\u001b[0m\u001b[1;33m[\u001b[0m\u001b[0mderived_df\u001b[0m\u001b[1;33m.\u001b[0m\u001b[0misin\u001b[0m\u001b[1;33m(\u001b[0m\u001b[1;33m[\u001b[0m\u001b[0mdf_mask\u001b[0m\u001b[1;33m]\u001b[0m\u001b[1;33m)\u001b[0m\u001b[1;33m.\u001b[0m\u001b[0many\u001b[0m\u001b[1;33m(\u001b[0m\u001b[0maxis\u001b[0m\u001b[1;33m=\u001b[0m\u001b[1;36m1\u001b[0m\u001b[1;33m)\u001b[0m\u001b[1;33m]\u001b[0m\u001b[1;33m\u001b[0m\u001b[1;33m\u001b[0m\u001b[0m\n",
      "\u001b[1;31mAttributeError\u001b[0m: 'float' object has no attribute 'type'"
     ]
    }
   ],
   "source": [
    "# Der älteste Gewinner\n",
    "\n",
    "df_mask=derived_df['Age Winning'].max()\n",
    "\n",
    "derived_df[derived_df.isin([df_mask]).any(axis=1)]"
   ]
  },
  {
   "cell_type": "code",
   "execution_count": 20,
   "id": "67b439b8",
   "metadata": {},
   "outputs": [
    {
     "data": {
      "text/plain": [
       "Full Name\n",
       "Abdus Salam                         2\n",
       "Adam G. Riess                       2\n",
       "Adolf Friedrich Johann Butenandt    2\n",
       "Albert Fert                         2\n",
       "Alvin E. Roth                       2\n",
       "                                   ..\n",
       "Tomas Lindahl                       2\n",
       "Toshihide Maskawa                   2\n",
       "Walther Bothe                       2\n",
       "Werner Forssmann                    2\n",
       "William Parry Murphy                2\n",
       "Length: 63, dtype: int64"
      ]
     },
     "execution_count": 20,
     "metadata": {},
     "output_type": "execute_result"
    }
   ],
   "source": [
    "# display multiple winners\n",
    "df = pd.DataFrame(nobel)\n",
    "\n",
    "# Eliminiere die Doppelten einträge und Ermittle die Dopellten Einträge\n",
    "multipleWinner = df[df.duplicated(['Full Name'], keep=False)]\n",
    "table =multipleWinner.pivot_table(index = ['Full Name'], aggfunc ='size')\n",
    "table"
   ]
  },
  {
   "cell_type": "code",
   "execution_count": 21,
   "id": "9fb1a44b",
   "metadata": {},
   "outputs": [
    {
     "data": {
      "text/plain": [
       "<function matplotlib.pyplot.show(close=None, block=None)>"
      ]
     },
     "execution_count": 21,
     "metadata": {},
     "output_type": "execute_result"
    },
    {
     "data": {
      "image/png": "[encoded data removed]",
      "text/plain": [
       "<Figure size 432x288 with 1 Axes>"
      ]
     },
     "metadata": {},
     "output_type": "display_data"
    }
   ],
   "source": [
    "# display multiple winners\n",
    "df = pd.DataFrame(nobel)\n",
    "\n",
    "# Eliminiere die Doppelten einträge und Ermittle die Dopellten Einträge\n",
    "multipleWinner = df[df.duplicated(['Full Name'], keep=False)]\n",
    "table =multipleWinner.pivot_table(index = ['Full Name'], aggfunc ='size')\n",
    "\n",
    "# Labeln\n",
    "plt.title('Wie viele haben mehr als einen Nobelpreis')\n",
    "plt.xlabel('Anzahl Nobelpreise')\n",
    "plt.ylabel('Anzahl Gewinner')\n",
    "\n",
    "#Plotte alle die mehr als einen Nobelpreis gewonnen haben\n",
    "plt.hist(table)\n",
    "plt.show"
   ]
  },
  {
   "cell_type": "code",
   "execution_count": 22,
   "id": "05724c83",
   "metadata": {},
   "outputs": [],
   "source": [
    "# AUfgabenstellung Aufgabe2\n",
    "# Wahrscheinlichkeit für den jüngsten Nobelpreisgewinner\n",
    "# Statistische Characteristika für alter (Min Standardabweichung. ecdf etc.)\n",
    "# Pluspunkt: Covarianzmatrix für die zweiten anderen Iristypen (warum 0.1 und 1.0 Kovarianz und 1.1 und 0.0 Standardabweichung)"
   ]
  },
  {
   "cell_type": "code",
   "execution_count": 23,
   "id": "711bee3c",
   "metadata": {},
   "outputs": [],
   "source": [
    "# Min und Max des Alters wurden im ersten Teil bereits berrechnet"
   ]
  },
  {
   "cell_type": "code",
   "execution_count": 27,
   "id": "73985ff8",
   "metadata": {},
   "outputs": [
    {
     "data": {
      "text/plain": [
       "62.0"
      ]
     },
     "execution_count": 27,
     "metadata": {},
     "output_type": "execute_result"
    }
   ],
   "source": [
    "# Mean und Median\n",
    "import statistics\n",
    "\n",
    "mean_age = np.mean(derived_df['Age Winning'])\n",
    "print(mean_age)\n",
    "\n",
    "# Mittelwert oder Duruchscnitt bezeichnet das Zusammengezählte Alter aller Gewinner geteilt durch die Anzahl der Gewinner\n",
    "\n",
    "median_age = statistics.median(derived_df['Age Winning'])\n",
    "print(median_age)\n",
    "\n",
    "# Median ist der Wert in der Mitte"
   ]
  },
  {
   "cell_type": "code",
   "execution_count": null,
   "id": "81f91d9c",
   "metadata": {},
   "outputs": [],
   "source": [
    "# Covarianz ist auf Alter nicht Möglich"
   ]
  },
  {
   "cell_type": "code",
   "execution_count": 54,
   "id": "618b9643",
   "metadata": {},
   "outputs": [
    {
     "name": "stdout",
     "output_type": "stream",
     "text": [
      "36.0\n",
      "50.0\n",
      "60.0\n",
      "69.0\n",
      "83.0\n"
     ]
    }
   ],
   "source": [
    "#Percentile\n",
    "# Erklärung\n",
    "#Unter einer Perzentile versteht man eine statistische Größe, die die Position eines Wertes,\n",
    "# mit anderen Werten eines Kollektivs vergleicht. \n",
    "# So besagt z.B. die 95. Perzentile, dass 95 von 100 Daten unterhalb dieses bestimmten Wertes liegen.\n",
    "\n",
    "percentiles_025 = derived_df['Age Winning'].quantile(0.025)\n",
    "print(percentiles_025 )\n",
    "percentiles_25 = derived_df['Age Winning'].quantile(0.25)\n",
    "print(percentiles_25)\n",
    "percentiles_50 = derived_df['Age Winning'].quantile(0.50)\n",
    "print(percentiles_50)\n",
    "percentiles_75 = derived_df['Age Winning'].quantile(0.75)\n",
    "print(percentiles_75)\n",
    "percentiles_975 = derived_df['Age Winning'].quantile(0.975)\n",
    "print(percentiles_975)"
   ]
  },
  {
   "cell_type": "code",
   "execution_count": 37,
   "id": "c1f7aa0a",
   "metadata": {},
   "outputs": [
    {
     "name": "stdout",
     "output_type": "stream",
     "text": [
      "153.03226026431966\n",
      "12.370620852015458\n"
     ]
    }
   ],
   "source": [
    "#Varianz und Standardabweichung\n",
    "varianz=np.var(derived_df['Age Winning'])\n",
    "print(varianz)\n",
    "#Erklärung Varianz\n",
    "# Die Varianz ist ein Streuungsmaß, welches die Verteilung von Werten um den Mittelwert kennzeichnet.\n",
    "standardabweichung=np.std(derived_df['Age Winning'])\n",
    "print(standardabweichung)\n",
    "# Erklärung Standardabweichung\n",
    "#Die Standardabweichung ist ein Maß für die Streubreite der Werte eines Merkmals rund um dessen Mittelwert"
   ]
  },
  {
   "cell_type": "code",
   "execution_count": 43,
   "id": "d19aaa47",
   "metadata": {},
   "outputs": [
    {
     "data": {
      "text/plain": [
       "8.365697170223821e-11"
      ]
     },
     "execution_count": 43,
     "metadata": {},
     "output_type": "execute_result"
    }
   ],
   "source": [
    "#Poison Verteilung\n",
    "from scipy.stats import poisson\n",
    "youngestAge = df_mask=derived_df['Age Winning'].min()\n",
    "ageMean = np.mean(derived_df['Age Winning'])\n",
    "poisson.cdf(k=youngestAge, mu=ageMean)\n"
   ]
  },
  {
   "cell_type": "code",
   "execution_count": 76,
   "id": "9aec3e87",
   "metadata": {},
   "outputs": [
    {
     "data": {
      "image/png": "[encoded data removed]",
      "text/plain": [
       "<Figure size 432x288 with 1 Axes>"
      ]
     },
     "metadata": {},
     "output_type": "display_data"
    }
   ],
   "source": [
    "def ecdf(derived_df):\n",
    "    # number of data points: n\n",
    "    n = len(derived_df)\n",
    "    # x-data for the ECDF: x\n",
    "    x=np.sort(derived_df)\n",
    "    # y-data for the ECDF: y\n",
    "    y=np.arange(1, n+1)/n\n",
    "    return x,y\n",
    "\n",
    "precentiles = [percentiles_025, percentiles_25, percentiles_50,percentiles_75,percentiles_975]\n",
    "\n",
    "\n",
    "\n",
    "# Zeichne Percentile\n",
    "x,y = ecdf(percentiles)\n",
    "# Zeichne ecdf Veteilung\n",
    "x_vers, y_vers = ecdf(derived_df['Age Winning'])\n",
    "# Plot the ECDF\n",
    "_ = plt.plot(x_vers, y_vers, '.')\n",
    "_ = plt.plot(x, y, '.')\n",
    "_ = plt.xlabel('Age')\n",
    "_ = plt.ylabel('ECDF')\n",
    "\n",
    "plt.show()"
   ]
  },
  {
   "cell_type": "code",
   "execution_count": null,
   "id": "6d28eaea",
   "metadata": {},
   "outputs": [
    {
     "name": "stdout",
     "output_type": "stream",
     "text": [
      "Wahrscheinlichkeit Alter unter 18:  8.365697170223821e-11\n"
     ]
    }
   ],
   "source": [
    "#Poisson-Verteilung\n",
    "\n",
    "# Draw 10,000 samples out of Poisson distribution: samples_poisson\n",
    "prob_younger_than_18=poisson.cdf(k=17, mu=ageMean)\n",
    "print('Wahrscheinlichkeit Alter unter 18: ', prob_younger_than_18)\n",
    "\n",
    "amount_of_hits = 0\n",
    "\n",
    "for i in range(10000000000000):\n",
    "    rand_num = np.random.rand()\n",
    "    if rand_num <= prob_younger_than_18:\n",
    "        amount_of_hits+=1\n",
    "\n",
    "print(amount_of_hits)"
   ]
  },
  {
   "cell_type": "code",
   "execution_count": null,
   "id": "e83c5f5f",
   "metadata": {},
   "outputs": [],
   "source": []
  }
 ],
 "metadata": {
  "kernelspec": {
   "display_name": "Python 3",
   "language": "python",
   "name": "python3"
  },
  "language_info": {
   "codemirror_mode": {
    "name": "ipython",
    "version": 3
   },
   "file_extension": ".py",
   "mimetype": "text/x-python",
   "name": "python",
   "nbconvert_exporter": "python",
   "pygments_lexer": "ipython3",
   "version": "3.8.8"
  }
 },
 "nbformat": 4,
 "nbformat_minor": 5
}
